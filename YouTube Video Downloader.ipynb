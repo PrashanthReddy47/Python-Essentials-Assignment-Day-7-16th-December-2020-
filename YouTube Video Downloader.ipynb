{
 "cells": [
  {
   "cell_type": "markdown",
   "metadata": {},
   "source": [
    "# Assignment Day 7 | 16th December 2020 "
   ]
  },
  {
   "cell_type": "code",
   "execution_count": 15,
   "metadata": {},
   "outputs": [],
   "source": [
    "# Create a YouTube video downloader and upload it in Github."
   ]
  },
  {
   "cell_type": "code",
   "execution_count": 14,
   "metadata": {},
   "outputs": [],
   "source": [
    "from tkinter import *\n",
    "from pytube import YouTube\n",
    "\n",
    "root = Tk()\n",
    "# Geometry\n",
    "root.geometry('600x250')\n",
    "root.title('YouTube Video Downloader App')\n",
    "\n",
    "# Download Function with try and except\n",
    "def download():   \n",
    "    try:\n",
    "        myVar.set('Downloading...Please Wait')\n",
    "        root.update()\n",
    "        YouTube(link.get()).streams.first().download()\n",
    "        link.set('Downloaded Video Successfully')\n",
    "    except:\n",
    "        myVar.set(\"there's some Mistake...\")\n",
    "        root.update()\n",
    "        link.set('Enter correct link')\n",
    "\n",
    "# Label\n",
    "Label(root, text = 'Paste link, Download Video\\nEnjoy',font = 'Bold 20', fg='red').pack()\n",
    "\n",
    "myVar = StringVar()\n",
    "myVar.set('Enter the link below')\n",
    "\n",
    "Entry(root, textvariable = myVar, width = 40, fg='green').pack(pady=10)\n",
    "link = StringVar()\n",
    "Entry(root, textvariable = link, width = 40).pack(pady=10)\n",
    "\n",
    "# Button\n",
    "Button(root, text = 'Download Video', command=download, bg='Blue', fg='white').pack()\n",
    "root.mainloop()\n"
   ]
  }
 ],
 "metadata": {
  "kernelspec": {
   "display_name": "Python 3",
   "language": "python",
   "name": "python3"
  },
  "language_info": {
   "codemirror_mode": {
    "name": "ipython",
    "version": 3
   },
   "file_extension": ".py",
   "mimetype": "text/x-python",
   "name": "python",
   "nbconvert_exporter": "python",
   "pygments_lexer": "ipython3",
   "version": "3.7.6"
  }
 },
 "nbformat": 4,
 "nbformat_minor": 4
}
